{
  "nbformat": 4,
  "nbformat_minor": 0,
  "metadata": {
    "colab": {
      "provenance": []
    },
    "kernelspec": {
      "name": "python3",
      "display_name": "Python 3"
    },
    "language_info": {
      "name": "python"
    }
  },
  "cells": [
    {
      "cell_type": "code",
      "execution_count": null,
      "metadata": {
        "colab": {
          "base_uri": "https://localhost:8080/"
        },
        "id": "tPL9FEvL6-iT",
        "outputId": "bb1097bb-4b22-4a30-9932-396cadc46eb1"
      },
      "outputs": [
        {
          "output_type": "stream",
          "name": "stdout",
          "text": [
            "preet_kule\n",
            "Create a vector : [1 2 3 4]\n",
            "\n",
            "\n",
            "Create a Matrix :  [[1 2]\n",
            " [3 4]\n",
            " [5 6]]\n",
            "\n",
            "\n",
            "Create a Tensor:  tf.Tensor([[1 2]], shape=(1, 2), dtype=int32)\n",
            "\n",
            "\n"
          ]
        }
      ],
      "source": [
        "import numpy as np\n",
        "import tensorflow as tf\n",
        "\n",
        "print('preet_kule')\n",
        "\n",
        "#create matrix,tensor and vector\n",
        "x=np.array([1,2,3,4])\n",
        "print(\"Create a vector :\",x)\n",
        "print(\"\\n\")\n",
        "\n",
        "A =np.array([[1,2], [3,4], [5,6]])\n",
        "print(\"Create a Matrix : \", A)\n",
        "print(\"\\n\")\n",
        "\n",
        "tensor_A =tf.constant([[1,2]], dtype=tf.int32)\n",
        "print(\"Create a Tensor: \", tensor_A)\n",
        "print(\"\\n\")"
      ]
    },
    {
      "cell_type": "code",
      "source": [
        "#multiplication of two: vector,matrix,tensor\n",
        "A = np.array([[1,2],[3,4],[5,6]])\n",
        "print(\"A = \",A)\n",
        "print(\"\\n\")\n",
        "\n",
        "B =np.array([[2,5],[7,4],[4,3]])\n",
        "print(\"B =\",B)\n",
        "print('\\n')\n",
        "\n",
        "C = A * B\n",
        "print(\"multiplication of two matrix: \", C)\n",
        "print(\"\\n\")\n",
        "\n",
        "x = np.array([1,2,3,4])\n",
        "y = np.array([5,6,7,8])\n",
        "\n",
        "z = x * y\n",
        "print(\"multiplication of two vectors:\", z)\n",
        "print('\\n')\n",
        "\n",
        "tensor_A = tf.constant([[4,2]], dtype=tf.int32)\n",
        "print(\"A : \",tensor_A)\n",
        "\n",
        "tensor_B = tf.constant([[7,4]], dtype=tf.int32)\n",
        "print(\"B: \",tensor_B)\n",
        "\n",
        "tensor_multiply = tf.multiply(tensor_A,tensor_B)\n",
        "print(\"Multiplication of two Tensor\", tensor_multiply)\n",
        "print(\"\\n\")\n",
        "\n",
        "\n"
      ],
      "metadata": {
        "colab": {
          "base_uri": "https://localhost:8080/"
        },
        "id": "Hyi1l7ob_I0f",
        "outputId": "11667ac3-25f7-42a3-e209-55100f0e181a"
      },
      "execution_count": null,
      "outputs": [
        {
          "output_type": "stream",
          "name": "stdout",
          "text": [
            "A =  [[1 2]\n",
            " [3 4]\n",
            " [5 6]]\n",
            "\n",
            "\n",
            "B = [[2 5]\n",
            " [7 4]\n",
            " [4 3]]\n",
            "\n",
            "\n",
            "multiplicationof two matrix:  [[ 2 10]\n",
            " [21 16]\n",
            " [20 18]]\n",
            "\n",
            "\n",
            "multiplicationof two vectors: [ 5 12 21 32]\n",
            "\n",
            "\n",
            "A :  tf.Tensor([[4 2]], shape=(1, 2), dtype=int32)\n",
            "B:  tf.Tensor([[7 4]], shape=(1, 2), dtype=int32)\n",
            "Multiplication of two Tensor tf.Tensor([[28  8]], shape=(1, 2), dtype=int32)\n",
            "\n",
            "\n"
          ]
        }
      ]
    },
    {
      "cell_type": "code",
      "source": [
        "# addition oftwo: vector,matrix,tensor\n",
        "\n",
        "x = np.array([1,2,3,4])\n",
        "y= np.array([5,6,7,8])\n",
        "\n",
        "z = x + y\n",
        "print(\"Addition of two matrix: \",z)\n",
        "print(\"\\n\")\n",
        "\n",
        "A = np.array([[1,2],[3,4],[5,6]])\n",
        "B = np.array([[2,5],[7,4],[4,3]])\n",
        "\n",
        "C = A * B\n",
        "print(\"Addition of two vector :\", C)\n",
        "print(\"\\n\")\n",
        "\n",
        "tensor_add = tf.add(tensor_A, tensor_B)\n",
        "print(\"Addition oftwo tensor: \",tensor_add)\n",
        "print(\"\\n\")"
      ],
      "metadata": {
        "colab": {
          "base_uri": "https://localhost:8080/"
        },
        "id": "abtNQE-7DAHw",
        "outputId": "32c00d78-fcab-49a6-e632-eb4d8b5d7b9a"
      },
      "execution_count": null,
      "outputs": [
        {
          "output_type": "stream",
          "name": "stdout",
          "text": [
            "Addition of two matrix:  [ 6  8 10 12]\n",
            "\n",
            "\n",
            "Addition of two vector : [[ 2 10]\n",
            " [21 16]\n",
            " [20 18]]\n",
            "\n",
            "\n",
            "Addition oftwo tensor:  tf.Tensor([[11  6]], shape=(1, 2), dtype=int32)\n",
            "\n",
            "\n"
          ]
        }
      ]
    },
    {
      "cell_type": "code",
      "source": [
        "#multply matrix with vector\n",
        "\n",
        "x=np.array([1,2,3,7,3,5,2])\n",
        "y = np.array([[1],[3],[5],[7],[8],[8],[2]])\n",
        "c = x * y\n",
        "print(\"multipky matrix with vector:\",c)\n",
        "print(\"\\n\")\n"
      ],
      "metadata": {
        "colab": {
          "base_uri": "https://localhost:8080/"
        },
        "id": "GBPxTUZLEXzf",
        "outputId": "1f0b4502-39db-42ab-aa2e-635f79b96f97"
      },
      "execution_count": null,
      "outputs": [
        {
          "output_type": "stream",
          "name": "stdout",
          "text": [
            "multipky matrix with vector: [[ 1  2  3  7  3  5  2]\n",
            " [ 3  6  9 21  9 15  6]\n",
            " [ 5 10 15 35 15 25 10]\n",
            " [ 7 14 21 49 21 35 14]\n",
            " [ 8 16 24 56 24 40 16]\n",
            " [ 8 16 24 56 24 40 16]\n",
            " [ 2  4  6 14  6 10  4]]\n",
            "\n",
            "\n"
          ]
        }
      ]
    },
    {
      "cell_type": "code",
      "source": [
        "#Matrix Dot product and matrix inverse\n",
        "\n",
        "U=[2,-3]\n",
        "V=[1,3]\n"
      ],
      "metadata": {
        "id": "qNvbY5zvE_c2"
      },
      "execution_count": null,
      "outputs": []
    },
    {
      "cell_type": "code",
      "source": [
        "dotproduct = np.dot(U,V)\n",
        "print(\"Matrix dot product :\",dotproduct)\n",
        "print(\"\\n\")\n",
        "\n",
        "A = np.array([[6,1,1],\n",
        "              [4,-2,5],\n",
        "              [2,8,7]])\n",
        "\n",
        "#Calculating the inverse of the matrix\n",
        "print(\"Inverse of the matrix:\",np.linalg.inv(A))\n",
        "print(\"\\n\")"
      ],
      "metadata": {
        "colab": {
          "base_uri": "https://localhost:8080/"
        },
        "id": "wpkrLhCjFJtc",
        "outputId": "95541ced-8fde-4cd6-9052-584d966bc3c9"
      },
      "execution_count": null,
      "outputs": [
        {
          "output_type": "stream",
          "name": "stdout",
          "text": [
            "Matrix dot product : -7\n",
            "\n",
            "\n",
            "Inverse of the matrix: [[ 0.17647059 -0.00326797 -0.02287582]\n",
            " [ 0.05882353 -0.13071895  0.08496732]\n",
            " [-0.11764706  0.1503268   0.05228758]]\n",
            "\n",
            "\n"
          ]
        }
      ]
    }
  ]
}