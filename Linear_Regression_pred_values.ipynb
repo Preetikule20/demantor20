{
  "nbformat": 4,
  "nbformat_minor": 0,
  "metadata": {
    "colab": {
      "provenance": []
    },
    "kernelspec": {
      "name": "python3",
      "display_name": "Python 3"
    },
    "language_info": {
      "name": "python"
    }
  },
  "cells": [
    {
      "cell_type": "code",
      "execution_count": null,
      "metadata": {
        "colab": {
          "base_uri": "https://localhost:8080/"
        },
        "id": "bUZbdszAUhto",
        "outputId": "30550feb-6831-4156-e28f-2aa4fca731f7"
      },
      "outputs": [
        {
          "output_type": "stream",
          "name": "stdout",
          "text": [
            "1/1 [==============================] - 0s 91ms/step\n",
            "X=[0.29466096 0.30317302],Predicted=[0.18547378]\n",
            "X=[0.39445118 0.79390858],Predicted=[0.75339645]\n",
            "X=[0.02884127 0.6208843 ],Predicted=[0.39328593]\n"
          ]
        }
      ],
      "source": [
        "from keras.models import Sequential\n",
        "from keras.layers import Dense\n",
        "from sklearn.datasets import make_regression\n",
        "from sklearn.preprocessing import MinMaxScaler\n",
        "\n",
        "X,Y=make_regression(n_samples=100,n_features=2,noise=0.1,random_state=1)\n",
        "scalarX,scalarY=MinMaxScaler(),MinMaxScaler()\n",
        "\n",
        "scalarX.fit(X)\n",
        "scalarY.fit(Y.reshape(100,1))\n",
        "X=scalarX.transform(X)\n",
        "Y=scalarY.transform(Y.reshape(100,1))\n",
        "\n",
        "model=Sequential()\n",
        "model.add(Dense(4,input_dim=2,activation='relu'))\n",
        "model.add(Dense(4,activation='relu'))\n",
        "model.add(Dense(1,activation='sigmoid'))\n",
        "model.compile(loss='mse',optimizer='adam')\n",
        "model.fit(X,Y,epochs=1000,verbose=0)\n",
        "\n",
        "Xnew,a=make_regression(n_samples=3,n_features=2,noise=0.1,random_state=1)\n",
        "Xnew=scalarX.transform(Xnew)\n",
        "Ynew=model.predict(Xnew)\n",
        "\n",
        "for i in range(len(Xnew)):\n",
        "  print(\"X=%s,Predicted=%s\"%(Xnew[i],Ynew[i]))"
      ]
    }
  ]
}