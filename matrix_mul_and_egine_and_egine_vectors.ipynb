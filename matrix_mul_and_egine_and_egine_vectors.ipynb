{
  "nbformat": 4,
  "nbformat_minor": 0,
  "metadata": {
    "colab": {
      "provenance": []
    },
    "kernelspec": {
      "name": "python3",
      "display_name": "Python 3"
    },
    "language_info": {
      "name": "python"
    }
  },
  "cells": [
    {
      "cell_type": "code",
      "execution_count": 1,
      "metadata": {
        "id": "4a7AUCzK_I3B",
        "colab": {
          "base_uri": "https://localhost:8080/"
        },
        "outputId": "d67dce7b-0e8e-4ea6-f5ef-a6a17a6d26f1"
      },
      "outputs": [
        {
          "output_type": "stream",
          "name": "stdout",
          "text": [
            "Matrix Multiplication Demo\n",
            "tf.Tensor(\n",
            "[[1 2 3]\n",
            " [4 5 6]], shape=(2, 3), dtype=int32)\n",
            "tf.Tensor(\n",
            "[[ 7  8]\n",
            " [ 9 10]\n",
            " [11 12]], shape=(3, 2), dtype=int32)\n",
            "Product: tf.Tensor(\n",
            "[[ 58  64]\n",
            " [139 154]], shape=(2, 2), dtype=int32)\n",
            "Matrix A:\n",
            "[[3.55297   3.9605594]\n",
            " [3.9194078 4.006404 ]]\n",
            "\n",
            "\n",
            "Eigen Vectors:\n",
            "[[-0.72723734 -0.6863861 ]\n",
            " [ 0.6863861  -0.72723734]]\n",
            "\n",
            "Eigen Values:\n",
            "[-0.14627254  7.7056465 ]\n",
            "\n"
          ]
        }
      ],
      "source": [
        "import tensorflow as tf\n",
        "print(\"Matrix Multiplication Demo\")\n",
        "x=tf.constant([1,2,3,4,5,6],shape=[2,3])\n",
        "print(x)\n",
        "y=tf.constant([7,8,9,10,11,12],shape=[3,2])\n",
        "print(y)\n",
        "z=tf.matmul(x,y)\n",
        "print(\"Product:\",z)\n",
        "e_matrix_A=tf.random.uniform([2,2],minval=3,maxval=10,dtype=tf.float32,name=\"matrixA\")\n",
        "print(\"Matrix A:\\n{}\\n\\n\".format(e_matrix_A))\n",
        "eigen_values_A,eigen_vectors_A=tf.linalg.eigh(e_matrix_A)\n",
        "print(\"Eigen Vectors:\\n{}\\n\\nEigen Values:\\n{}\\n\".format(eigen_vectors_A,eigen_values_A))"
      ]
    }
  ]
}